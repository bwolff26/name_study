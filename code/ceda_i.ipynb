{
 "cells": [
  {
   "cell_type": "markdown",
   "id": "0c6f45cf",
   "metadata": {},
   "source": [
    "### Warning:\n",
    "\n",
    "Please assume that this is still a work in progress, hence code is likely messey, superfluous, etc."
   ]
  },
  {
   "cell_type": "code",
   "execution_count": null,
   "id": "d2f6eae9",
   "metadata": {},
   "outputs": [],
   "source": [
    "import numpy as np\n",
    "import pandas as pd\n",
    "import matplotlib.pyplot as plt\n",
    "import seaborn as sns"
   ]
  },
  {
   "cell_type": "code",
   "execution_count": 4,
   "id": "09c54014",
   "metadata": {},
   "outputs": [
    {
     "name": "stdout",
     "output_type": "stream",
     "text": [
      "(2000, 5)\n"
     ]
    },
    {
     "data": {
      "text/html": [
       "<div>\n",
       "<style scoped>\n",
       "    .dataframe tbody tr th:only-of-type {\n",
       "        vertical-align: middle;\n",
       "    }\n",
       "\n",
       "    .dataframe tbody tr th {\n",
       "        vertical-align: top;\n",
       "    }\n",
       "\n",
       "    .dataframe thead th {\n",
       "        text-align: right;\n",
       "    }\n",
       "</style>\n",
       "<table border=\"1\" class=\"dataframe\">\n",
       "  <thead>\n",
       "    <tr style=\"text-align: right;\">\n",
       "      <th></th>\n",
       "      <th>first</th>\n",
       "      <th>sex</th>\n",
       "      <th>count</th>\n",
       "      <th>per_of_year</th>\n",
       "      <th>rank_of_year</th>\n",
       "    </tr>\n",
       "  </thead>\n",
       "  <tbody>\n",
       "    <tr>\n",
       "      <th>0</th>\n",
       "      <td>Mary</td>\n",
       "      <td>F</td>\n",
       "      <td>7065</td>\n",
       "      <td>0.078</td>\n",
       "      <td>1</td>\n",
       "    </tr>\n",
       "    <tr>\n",
       "      <th>1</th>\n",
       "      <td>Anna</td>\n",
       "      <td>F</td>\n",
       "      <td>2604</td>\n",
       "      <td>0.029</td>\n",
       "      <td>2</td>\n",
       "    </tr>\n",
       "    <tr>\n",
       "      <th>2</th>\n",
       "      <td>Emma</td>\n",
       "      <td>F</td>\n",
       "      <td>2003</td>\n",
       "      <td>0.022</td>\n",
       "      <td>3</td>\n",
       "    </tr>\n",
       "    <tr>\n",
       "      <th>3</th>\n",
       "      <td>Elizabeth</td>\n",
       "      <td>F</td>\n",
       "      <td>1939</td>\n",
       "      <td>0.021</td>\n",
       "      <td>4</td>\n",
       "    </tr>\n",
       "    <tr>\n",
       "      <th>4</th>\n",
       "      <td>Minnie</td>\n",
       "      <td>F</td>\n",
       "      <td>1746</td>\n",
       "      <td>0.019</td>\n",
       "      <td>5</td>\n",
       "    </tr>\n",
       "  </tbody>\n",
       "</table>\n",
       "</div>"
      ],
      "text/plain": [
       "       first sex  count  per_of_year  rank_of_year\n",
       "0       Mary   F   7065        0.078             1\n",
       "1       Anna   F   2604        0.029             2\n",
       "2       Emma   F   2003        0.022             3\n",
       "3  Elizabeth   F   1939        0.021             4\n",
       "4     Minnie   F   1746        0.019             5"
      ]
     },
     "execution_count": 4,
     "metadata": {},
     "output_type": "execute_result"
    }
   ],
   "source": [
    "df = pd.read_csv('../data/yob_ss/yob1880.txt', header=None,\n",
    "                names = ['first', 'sex', 'count'])\n",
    "\n",
    "#Per old actuarial methods I used, we'll be defining Male as anything not Female. Albeit even in 2023 all binary.\n",
    "newborn_females, newborn_males = sum(df[df['sex']=='F']['count']), sum(df[df['sex']!='F']['count'])\n",
    "df['per_of_year'] = [round(i/newborn_females, 3) if sex == 'F' else round(i/newborn_males, 3) for i, sex in zip(df['count'], df['sex'])]\n",
    "male_name_start = df['sex'].value_counts()['F']\n",
    "df['rank_of_year'] = [i if sex == 'F' else i - male_name_start for i, sex in zip(range(1, df.shape[0]+1), df['sex'])]\n",
    "print(df.shape)\n",
    "\n",
    "df.head()\n",
    "\n",
    "#Hmm, potentally change the last two columns to make it clearer that it's gender specific? Oh well"
   ]
  },
  {
   "cell_type": "markdown",
   "id": "4ffb45ec",
   "metadata": {},
   "source": [
    "Even if a name is androgynous, we're still intersted in seeing hte percentage of whatever gender being called it, to gauge name usage over time. Hence, depending upon the gender dividing a 'male' or 'female' name by the sum of all male/fe names used in whatever year."
   ]
  },
  {
   "cell_type": "code",
   "execution_count": 5,
   "id": "f34fa43c",
   "metadata": {},
   "outputs": [
    {
     "name": "stdout",
     "output_type": "stream",
     "text": [
      "(2117219, 6)\n"
     ]
    },
    {
     "data": {
      "text/html": [
       "<div>\n",
       "<style scoped>\n",
       "    .dataframe tbody tr th:only-of-type {\n",
       "        vertical-align: middle;\n",
       "    }\n",
       "\n",
       "    .dataframe tbody tr th {\n",
       "        vertical-align: top;\n",
       "    }\n",
       "\n",
       "    .dataframe thead th {\n",
       "        text-align: right;\n",
       "    }\n",
       "</style>\n",
       "<table border=\"1\" class=\"dataframe\">\n",
       "  <thead>\n",
       "    <tr style=\"text-align: right;\">\n",
       "      <th></th>\n",
       "      <th>first</th>\n",
       "      <th>sex</th>\n",
       "      <th>count</th>\n",
       "      <th>year</th>\n",
       "      <th>per_of_year</th>\n",
       "      <th>rank_of_year</th>\n",
       "    </tr>\n",
       "  </thead>\n",
       "  <tbody>\n",
       "    <tr>\n",
       "      <th>0</th>\n",
       "      <td>Mary</td>\n",
       "      <td>F</td>\n",
       "      <td>7065</td>\n",
       "      <td>1880</td>\n",
       "      <td>0.078</td>\n",
       "      <td>1</td>\n",
       "    </tr>\n",
       "    <tr>\n",
       "      <th>1</th>\n",
       "      <td>Anna</td>\n",
       "      <td>F</td>\n",
       "      <td>2604</td>\n",
       "      <td>1880</td>\n",
       "      <td>0.029</td>\n",
       "      <td>2</td>\n",
       "    </tr>\n",
       "    <tr>\n",
       "      <th>2</th>\n",
       "      <td>Emma</td>\n",
       "      <td>F</td>\n",
       "      <td>2003</td>\n",
       "      <td>1880</td>\n",
       "      <td>0.022</td>\n",
       "      <td>3</td>\n",
       "    </tr>\n",
       "    <tr>\n",
       "      <th>3</th>\n",
       "      <td>Elizabeth</td>\n",
       "      <td>F</td>\n",
       "      <td>1939</td>\n",
       "      <td>1880</td>\n",
       "      <td>0.021</td>\n",
       "      <td>4</td>\n",
       "    </tr>\n",
       "    <tr>\n",
       "      <th>4</th>\n",
       "      <td>Minnie</td>\n",
       "      <td>F</td>\n",
       "      <td>1746</td>\n",
       "      <td>1880</td>\n",
       "      <td>0.019</td>\n",
       "      <td>5</td>\n",
       "    </tr>\n",
       "  </tbody>\n",
       "</table>\n",
       "</div>"
      ],
      "text/plain": [
       "       first sex  count  year  per_of_year  rank_of_year\n",
       "0       Mary   F   7065  1880        0.078             1\n",
       "1       Anna   F   2604  1880        0.029             2\n",
       "2       Emma   F   2003  1880        0.022             3\n",
       "3  Elizabeth   F   1939  1880        0.021             4\n",
       "4     Minnie   F   1746  1880        0.019             5"
      ]
     },
     "execution_count": 5,
     "metadata": {},
     "output_type": "execute_result"
    }
   ],
   "source": [
    "#Hmm, but we have a gazillion... I see two approaches:\n",
    "#Make a giant data frame and add all those guys to it, seperating them via year.\n",
    "\n",
    "#2 Have a gazillion dataframes thenmaybe add as needed.\n",
    "\n",
    "#Yeah, we're doing the former.\n",
    "\n",
    "#Just realzied that we're assuming the SS lists are oganized by count. Perhaps we should be strict... oh well\n",
    "\n",
    "birth_years = []\n",
    "\n",
    "for specific_year in range(1880, 2024):\n",
    "    curr_df = pd.read_csv(f'../data/yob_ss/yob{specific_year}.txt', header=None,\n",
    "                names = ['first', 'sex', 'count'])\n",
    "    curr_df['year'] = specific_year\n",
    "    newborn_females, newborn_males = sum(curr_df[curr_df['sex']=='F']['count']), sum(curr_df[curr_df['sex']!='F']['count'])\n",
    "    curr_df['per_of_year'] = [round(i/newborn_females, 3) if sex == 'F' else round(i/newborn_males, 3) for i, sex in zip(curr_df['count'], curr_df['sex'])]\n",
    "    male_name_start = curr_df['sex'].value_counts()['F']\n",
    "    curr_df['rank_of_year'] = [i if sex == 'F' else i - male_name_start for i, sex in zip(range(1, curr_df.shape[0]+1), curr_df['sex'])]\n",
    "    birth_years.append(curr_df)\n",
    "    \n",
    "df = pd.concat(birth_years, axis=0, ignore_index=True) #Apparently it's faster to do it this way. More intuitive to be to\n",
    "#update the 'final' df immediately, but at least upon asking ChatGPT they claim it's quicker this way. Although we only have\n",
    "#4 features, including year, we do have over 2m records.\n",
    "    \n",
    "print(df.shape)\n",
    "df.head()"
   ]
  },
  {
   "cell_type": "markdown",
   "id": "07287396",
   "metadata": {},
   "source": [
    "Hmm, I'm wondering if SQL might have been the way to go for this. Eh, oh well."
   ]
  },
  {
   "cell_type": "code",
   "execution_count": 4,
   "id": "4e4c5c89",
   "metadata": {},
   "outputs": [
    {
     "data": {
      "text/html": [
       "<div>\n",
       "<style scoped>\n",
       "    .dataframe tbody tr th:only-of-type {\n",
       "        vertical-align: middle;\n",
       "    }\n",
       "\n",
       "    .dataframe tbody tr th {\n",
       "        vertical-align: top;\n",
       "    }\n",
       "\n",
       "    .dataframe thead th {\n",
       "        text-align: right;\n",
       "    }\n",
       "</style>\n",
       "<table border=\"1\" class=\"dataframe\">\n",
       "  <thead>\n",
       "    <tr style=\"text-align: right;\">\n",
       "      <th></th>\n",
       "      <th>first</th>\n",
       "      <th>sex</th>\n",
       "      <th>count</th>\n",
       "      <th>year</th>\n",
       "      <th>per_of_year</th>\n",
       "      <th>rank_of_year</th>\n",
       "    </tr>\n",
       "  </thead>\n",
       "  <tbody>\n",
       "    <tr>\n",
       "      <th>942</th>\n",
       "      <td>John</td>\n",
       "      <td>M</td>\n",
       "      <td>9655</td>\n",
       "      <td>1880</td>\n",
       "      <td>0.087</td>\n",
       "      <td>1</td>\n",
       "    </tr>\n",
       "    <tr>\n",
       "      <th>4962</th>\n",
       "      <td>John</td>\n",
       "      <td>M</td>\n",
       "      <td>9557</td>\n",
       "      <td>1882</td>\n",
       "      <td>0.084</td>\n",
       "      <td>1</td>\n",
       "    </tr>\n",
       "    <tr>\n",
       "      <th>943</th>\n",
       "      <td>William</td>\n",
       "      <td>M</td>\n",
       "      <td>9532</td>\n",
       "      <td>1880</td>\n",
       "      <td>0.086</td>\n",
       "      <td>2</td>\n",
       "    </tr>\n",
       "    <tr>\n",
       "      <th>9317</th>\n",
       "      <td>John</td>\n",
       "      <td>M</td>\n",
       "      <td>9388</td>\n",
       "      <td>1884</td>\n",
       "      <td>0.082</td>\n",
       "      <td>1</td>\n",
       "    </tr>\n",
       "    <tr>\n",
       "      <th>4963</th>\n",
       "      <td>William</td>\n",
       "      <td>M</td>\n",
       "      <td>9298</td>\n",
       "      <td>1882</td>\n",
       "      <td>0.082</td>\n",
       "      <td>2</td>\n",
       "    </tr>\n",
       "    <tr>\n",
       "      <th>18975</th>\n",
       "      <td>John</td>\n",
       "      <td>M</td>\n",
       "      <td>9247</td>\n",
       "      <td>1888</td>\n",
       "      <td>0.077</td>\n",
       "      <td>1</td>\n",
       "    </tr>\n",
       "    <tr>\n",
       "      <th>29758</th>\n",
       "      <td>John</td>\n",
       "      <td>M</td>\n",
       "      <td>9039</td>\n",
       "      <td>1892</td>\n",
       "      <td>0.074</td>\n",
       "      <td>1</td>\n",
       "    </tr>\n",
       "    <tr>\n",
       "      <th>14018</th>\n",
       "      <td>John</td>\n",
       "      <td>M</td>\n",
       "      <td>9026</td>\n",
       "      <td>1886</td>\n",
       "      <td>0.081</td>\n",
       "      <td>1</td>\n",
       "    </tr>\n",
       "    <tr>\n",
       "      <th>9318</th>\n",
       "      <td>William</td>\n",
       "      <td>M</td>\n",
       "      <td>8897</td>\n",
       "      <td>1884</td>\n",
       "      <td>0.078</td>\n",
       "      <td>2</td>\n",
       "    </tr>\n",
       "    <tr>\n",
       "      <th>7115</th>\n",
       "      <td>John</td>\n",
       "      <td>M</td>\n",
       "      <td>8894</td>\n",
       "      <td>1883</td>\n",
       "      <td>0.085</td>\n",
       "      <td>1</td>\n",
       "    </tr>\n",
       "  </tbody>\n",
       "</table>\n",
       "</div>"
      ],
      "text/plain": [
       "         first sex  count  year  per_of_year  rank_of_year\n",
       "942       John   M   9655  1880        0.087             1\n",
       "4962      John   M   9557  1882        0.084             1\n",
       "943    William   M   9532  1880        0.086             2\n",
       "9317      John   M   9388  1884        0.082             1\n",
       "4963   William   M   9298  1882        0.082             2\n",
       "18975     John   M   9247  1888        0.077             1\n",
       "29758     John   M   9039  1892        0.074             1\n",
       "14018     John   M   9026  1886        0.081             1\n",
       "9318   William   M   8897  1884        0.078             2\n",
       "7115      John   M   8894  1883        0.085             1"
      ]
     },
     "execution_count": 4,
     "metadata": {},
     "output_type": "execute_result"
    }
   ],
   "source": [
    "df[(df['sex'] == 'M') & (df['year'] < 1900)].sort_values('count', ascending=False)[:10]"
   ]
  },
  {
   "cell_type": "code",
   "execution_count": 5,
   "id": "79121cc8",
   "metadata": {},
   "outputs": [
    {
     "data": {
      "text/plain": [
       "sex\n",
       "F    1245559\n",
       "M     871660\n",
       "Name: count, dtype: int64"
      ]
     },
     "execution_count": 5,
     "metadata": {},
     "output_type": "execute_result"
    }
   ],
   "source": [
    "df['sex'].value_counts() #Wow.... and who said it's 50/50?!!?!? Not even close.... perhaps in one year is different\n",
    "#Oh no noob - this refers to just names... we'd need to sum the counts...\n",
    "\n",
    "#Still interesting though... albeit many are duplicated"
   ]
  },
  {
   "cell_type": "code",
   "execution_count": 6,
   "id": "88d1b984",
   "metadata": {},
   "outputs": [
    {
     "data": {
      "text/plain": [
       "(70903, 44261)"
      ]
     },
     "execution_count": 6,
     "metadata": {},
     "output_type": "execute_result"
    }
   ],
   "source": [
    "len(df[df['sex']=='F']['first'].unique()), len(df[df['sex']!='F']['first'].unique()) #There we go. Hmm, a similar disparity,\n",
    "#which somewhat makes sense.Regardless, see the much greater varity of female names than male names. Now, recall we're dealing\n",
    "#with the United States - a country that has many immigrants coming in, more and more as time goes on.So, a bit harder to gauge\n",
    "#the proportion of names when certain cultures bring with it differnt proportions of the gendered names."
   ]
  },
  {
   "cell_type": "code",
   "execution_count": 7,
   "id": "6a226844",
   "metadata": {},
   "outputs": [
    {
     "data": {
      "text/plain": [
       "(182299206, 186337032)"
      ]
     },
     "execution_count": 7,
     "metadata": {},
     "output_type": "execute_result"
    }
   ],
   "source": [
    "#Now, this is what I meant to do:\n",
    "\n",
    "females, males = sum(df[df['sex']=='F']['count']), sum(df[df['sex']!='F']['count'])\n",
    "females,males\n",
    "#Hmm, so about 4 million more males born over 144 years. Interesting. Might be neat to do a thing where we log\n",
    "#the number of males/females born each year from 1880 to 2023, potetialy focusing on percentages to cancel the effect of population\n",
    "#growth."
   ]
  },
  {
   "cell_type": "code",
   "execution_count": 8,
   "id": "559de649",
   "metadata": {},
   "outputs": [
    {
     "data": {
      "text/plain": [
       "(2571.107, 4209.96)"
      ]
     },
     "execution_count": 8,
     "metadata": {},
     "output_type": "execute_result"
    }
   ],
   "source": [
    "round(females/len(df[df['sex']=='F']['first'].unique()), 3), round(males/len(df[df['sex']!='F']['first'].unique()), 3)\n",
    "#Wow, the average female name is used a bit more than half of the average male name. Obviously from just our head we see Mary and Anna\n",
    "#beat that - just with that one year... but we're talking about all 70k unique female names..."
   ]
  },
  {
   "cell_type": "code",
   "execution_count": 9,
   "id": "c502628e",
   "metadata": {},
   "outputs": [
    {
     "data": {
      "text/plain": [
       "sex\n",
       "M    1058\n",
       "F     942\n",
       "Name: count, dtype: int64"
      ]
     },
     "execution_count": 9,
     "metadata": {},
     "output_type": "execute_result"
    }
   ],
   "source": [
    "df[df['year'] == 1880]['sex'].value_counts()"
   ]
  },
  {
   "cell_type": "markdown",
   "id": "89678e88",
   "metadata": {},
   "source": [
    "## Select Analytics and Visuals\n",
    "\n",
    "Hmm, what should we focus on? I'll at least give 3 ideas right now:\n",
    "\n",
    "Note, by default assume things are gendered (do it both for male and female)\n",
    "\n",
    "Most popular name from 1880 useage until now.\n",
    "    From 2023 and how it changes (if it did)\n",
    "Occurences of names in the top 10, 20, 25, 30, 50, 100\n",
    "\n",
    "Gendered births over time (ie did begetting males become less frequent?)"
   ]
  },
  {
   "cell_type": "code",
   "execution_count": 11,
   "id": "b5f17494",
   "metadata": {},
   "outputs": [],
   "source": [
    "birth_percentages = []\n",
    "for i in range(1880, 2024): #Od\n",
    "    females, males = sum(df[(df['year'] == i) & (df['sex'] == 'F')]['count']), sum(df[(df['year'] == i) & (df['sex'] != 'F')]['count'])\n",
    "    births = females + males\n",
    "    birth_percentages.append([i, round(females/births, 3), round(males/births, 3)])\n",
    "    \n",
    "birth_percentages = pd.DataFrame(birth_percentages, columns=['year', 'female_br', 'male_br'])\n",
    "birth_percentages.head()"
   ]
  },
  {
   "cell_type": "code",
   "execution_count": 26,
   "id": "96083842",
   "metadata": {},
   "outputs": [
    {
     "data": {
      "image/png": "[encoded data removed]",
      "text/plain": [
       "<Figure size 640x480 with 1 Axes>"
      ]
     },
     "metadata": {},
     "output_type": "display_data"
    }
   ],
   "source": [
    "xtitle = 'Year'\n",
    "ytitle = 'Birth Rate'\n",
    "title = 'Male and Female Birth Rate over Time'\n",
    "\n",
    "plt.xlabel(xtitle)\n",
    "plt.ylabel(ytitle)\n",
    "plt.title(title)\n",
    "plt.plot(birth_percentages['year'], birth_percentages['female_br'], color = 'pink', label = 'Females')\n",
    "plt.plot(birth_percentages['year'], birth_percentages['male_br'], color = 'lightskyblue', label = 'Males')\n",
    "plt.axvline(x=1883, color='darkviolet', linestyle='--', label='1883') #Found via eda\n",
    "plt.axvline(x=1937, color='black', linestyle='--', label='1937')\n",
    "plt.legend();"
   ]
  },
  {
   "cell_type": "markdown",
   "id": "186315bb",
   "metadata": {},
   "source": [
    "Yeah, all this adds to a lot of interestng discussions, especially in years 1889 to 1911 that the female birthrate was over 20% that of males, maxing out at 69.2% to 30.8% in 1901.\n",
    "\n",
    "Pragmatically recall I trend I remember from my actuarial days where apparently the expected age difference was that males would be 3 years older than females. So, on a population basis we might need to offset them by three, but eh..."
   ]
  },
  {
   "cell_type": "code",
   "execution_count": 31,
   "id": "95d03dc2",
   "metadata": {},
   "outputs": [],
   "source": [
    "# birth_percentages[birth_percentages['female_br']-birth_percentages['male_br']>.2]\n",
    "# birth_percentages[birth_percentages['female_br']==birth_percentages['female_br'].max()]"
   ]
  },
  {
   "cell_type": "code",
   "execution_count": 22,
   "id": "3b5b55e1",
   "metadata": {},
   "outputs": [],
   "source": [
    "#Re the unique names - I think it's better to contrast just two years than to do another line graph. I think it'll better\n",
    "#emphasis the change over time.\n",
    "\n",
    "#Hmm, should I be writing a formula for this? Eh, at least at the moment... So close to having that though when I have the years\n",
    "#out in front.\n",
    "\n",
    "y1 = 1880\n",
    "y2 = 2023\n",
    "\n",
    "y1_u_fnames, y1_u_mnames = df[(df['year']==y1)&(df['sex']=='F')].shape[0], df[(df['year']==y1)&(df['sex']!='F')].shape[0] #Perhaps should do count, but eh\n",
    "y2_u_fnames, y2_u_mnames = df[(df['year']==y2)&(df['sex']=='F')].shape[0], df[(df['year']==y2)&(df['sex']!='F')].shape[0]\n",
    "\n",
    "y1_avg_fname, y1_avg_mname = df[(df['year']==y1)&(df['sex']=='F')]['count'].mean(), df[(df['year']==y1)&(df['sex']!='F')]['count'].mean()\n",
    "y2_avg_fname, y2_avg_mname = df[(df['year']==y2)&(df['sex']=='F')]['count'].mean(), df[(df['year']==y2)&(df['sex']!='F')]['count'].mean()\n",
    "\n",
    "y1_females, y1_males = df[(df['year']==y1)&(df['sex']=='F')]['count'].sum(), df[(df['year']==y1)&(df['sex']!='F')]['count'].sum()\n",
    "y2_females, y2_males = df[(df['year']==y2)&(df['sex']=='F')]['count'].sum(), df[(df['year']==y2)&(df['sex']!='F')]['count'].sum()"
   ]
  },
  {
   "cell_type": "code",
   "execution_count": 27,
   "id": "0a8bef0f",
   "metadata": {},
   "outputs": [
    {
     "data": {
      "image/png": "[encoded data removed]",
      "text/plain": [
       "<Figure size 640x480 with 1 Axes>"
      ]
     },
     "metadata": {},
     "output_type": "display_data"
    }
   ],
   "source": [
    "ytitle = 'Count'\n",
    "title = 'Unique '\n",
    "\n",
    "categories = (\"Unique Names\", \"Average Babies per Name\")\n",
    "year_stats = {\n",
    "    f'{y1} Females': (y1_u_fnames, y1_avg_fname),\n",
    "    f'{y1} Males': (y1_u_mnames, y1_avg_mname),\n",
    "    f'{y2} Females': (y2_u_fnames, y2_avg_fname),\n",
    "    f'{y2} Males': (y2_u_mnames, y2_avg_mname)\n",
    "}\n",
    "\n",
    "x = np.arange(len(categories))  # the label locations\n",
    "width = 0.25  # the width of the bars\n",
    "multiplier = 0\n",
    "\n",
    "fig, ax = plt.subplots(layout='constrained')\n",
    "\n",
    "for attribute, measurement in year_stats.items():\n",
    "    offset = width * multiplier\n",
    "    rects = ax.bar(x + offset, measurement, width, label=attribute)\n",
    "    ax.bar_label(rects, padding=3)\n",
    "    multiplier += 1\n",
    "\n",
    "# Add some text for labels, title and custom x-axis tick labels, etc.\n",
    "ax.set_ylabel('Length (mm)')\n",
    "ax.set_title('Penguin attributes by species')\n",
    "ax.set_xticks(x + width, categories)\n",
    "ax.legend(loc='upper left', ncols=len(categories))\n",
    "# ax.set_ylim(0, 250)\n",
    "\n",
    "plt.show()"
   ]
  },
  {
   "cell_type": "code",
   "execution_count": null,
   "id": "5e32d132",
   "metadata": {},
   "outputs": [],
   "source": [
    "#Future site for differenc in the populations.... I think we should make this graph part of th previous one, but as subplot below it"
   ]
  },
  {
   "cell_type": "code",
   "execution_count": 25,
   "id": "d0676997",
   "metadata": {},
   "outputs": [
    {
     "data": {
      "image/png": "[encoded data removed]",
      "text/plain": [
       "<Figure size 1200x800 with 1 Axes>"
      ]
     },
     "metadata": {},
     "output_type": "display_data"
    }
   ],
   "source": [
    "xtitle = 'Year'\n",
    "ytitle = 'Birth Rate'\n",
    "title = 'Male and Female Birth Rate over Time'\n",
    "\n",
    "years = ['1880', '2023']\n",
    "types = ['Unique Names', 'Average Babies per Name']\n",
    "categories = ['Female', 'Male']\n",
    "colors = ['pink', 'lightskyblue']\n",
    "\n",
    "unique_names = [y1_u_fnames, y1_u_mnames, y2_u_fnames, y2_u_mnames]\n",
    "avg_counts = [y1_avg_fname, y1_avg_mname, y2_avg_fname, y2_avg_mname]\n",
    "# total_counts = [y1_females, y1_males, y2_females, y2_males]\n",
    "\n",
    "data = [\n",
    "    [y1_u_fnames, y1_avg_fname],\n",
    "    [y1_u_mnames, y1_avg_mname],\n",
    "    [y2_u_fnames, y2_avg_fname],\n",
    "    [y2_u_mnames, y2_avg_mname]\n",
    "]\n",
    "\n",
    "# Bar positions\n",
    "bar_width = 0.2\n",
    "bar_positions = np.arange(len(years) * len(categories))\n",
    "\n",
    "fig, ax = plt.subplots(figsize=(12, 8))\n",
    "\n",
    "# Plot bars for each type (unique names and average count) for each category in each year\n",
    "for i, (unique, avg) in enumerate(data):\n",
    "    year_index = i // 2  # 0 for 1880, 1 for 2023\n",
    "    category_index = i % 2  # 0 for Female, 1 for Male\n",
    "    base_position = year_index * 4 + category_index * 2\n",
    "\n",
    "    # Plot unique names\n",
    "    ax.bar(base_position - bar_width / 2, unique, width=bar_width, color=colors[category_index], label=f'Unique {categories[category_index]} {years[year_index]}' if i < 2 else \"\")\n",
    "    \n",
    "    # Plot average count\n",
    "    ax.bar(base_position + bar_width / 2, avg, width=bar_width, color=colors[category_index], alpha=0.6, label=f'Average {categories[category_index]} {years[year_index]}' if i < 2 else \"\")\n",
    "\n",
    "# Set labels and title\n",
    "ax.set_ylabel('Count')\n",
    "ax.set_title('Unique and Average Name Counts by Year and Gender')\n",
    "ax.set_xticks(bar_positions)\n",
    "ax.set_xticklabels(['1880 Female', '1880 Male', '2023 Female', '2023 Male'])\n",
    "ax.legend(loc='upper left', bbox_to_anchor=(1, 1))\n",
    "\n",
    "plt.show()"
   ]
  },
  {
   "cell_type": "code",
   "execution_count": 14,
   "id": "63d40cbe",
   "metadata": {},
   "outputs": [
    {
     "data": {
      "text/plain": [
       "96.59660297239915"
      ]
     },
     "execution_count": 14,
     "metadata": {},
     "output_type": "execute_result"
    }
   ],
   "source": [
    "df[(df['year']==1880)&(df['sex']=='F')]['count'].mean()"
   ]
  },
  {
   "cell_type": "code",
   "execution_count": 15,
   "id": "c1823a54",
   "metadata": {},
   "outputs": [
    {
     "data": {
      "text/plain": [
       "96.59660297239915"
      ]
     },
     "execution_count": 15,
     "metadata": {},
     "output_type": "execute_result"
    }
   ],
   "source": [
    "sum(df[(df['year']==1880)&(df['sex']=='F')]['count'])/y1_u_fnames"
   ]
  },
  {
   "cell_type": "code",
   "execution_count": 16,
   "id": "b722543c",
   "metadata": {},
   "outputs": [
    {
     "data": {
      "text/plain": [
       "942"
      ]
     },
     "execution_count": 16,
     "metadata": {},
     "output_type": "execute_result"
    }
   ],
   "source": [
    "df[(df['year']==1880)&(df['sex']=='F')]['count'].count()"
   ]
  },
  {
   "cell_type": "code",
   "execution_count": 18,
   "id": "f0e533e8",
   "metadata": {},
   "outputs": [
    {
     "data": {
      "image/png": "[encoded data removed]",
      "text/plain": [
       "<Figure size 640x480 with 3 Axes>"
      ]
     },
     "metadata": {},
     "output_type": "display_data"
    }
   ],
   "source": [
    "categories = ['A', 'B', 'C', 'D']\n",
    "stat1 = [10, 15, 20, 25]\n",
    "stat2 = [100, 150, 200, 250]\n",
    "stat3 = [1000, 1500, 2000, 2500]\n",
    "\n",
    "fig, ax1 = plt.subplots()\n",
    "\n",
    "ax2 = ax1.twinx()\n",
    "ax3 = ax1.twinx()\n",
    "\n",
    "# Offset the third axis\n",
    "ax3.spines['right'].set_position(('outward', 60))\n",
    "\n",
    "ax1.bar(categories, stat1, color='b', label='Stat1')\n",
    "ax2.bar(categories, stat2, color='r', label='Stat2', alpha=0.6)\n",
    "ax3.bar(categories, stat3, color='g', label='Stat3', alpha=0.3)\n",
    "\n",
    "ax1.set_ylabel('Stat1')\n",
    "ax2.set_ylabel('Stat2')\n",
    "ax3.set_ylabel('Stat3')\n",
    "\n",
    "fig.tight_layout()\n",
    "plt.show()"
   ]
  },
  {
   "cell_type": "code",
   "execution_count": 33,
   "id": "31d08bca",
   "metadata": {},
   "outputs": [
    {
     "data": {
      "text/html": [
       "<div>\n",
       "<style scoped>\n",
       "    .dataframe tbody tr th:only-of-type {\n",
       "        vertical-align: middle;\n",
       "    }\n",
       "\n",
       "    .dataframe tbody tr th {\n",
       "        vertical-align: top;\n",
       "    }\n",
       "\n",
       "    .dataframe thead th {\n",
       "        text-align: right;\n",
       "    }\n",
       "</style>\n",
       "<table border=\"1\" class=\"dataframe\">\n",
       "  <thead>\n",
       "    <tr style=\"text-align: right;\">\n",
       "      <th></th>\n",
       "      <th>first</th>\n",
       "      <th>sex</th>\n",
       "      <th>count</th>\n",
       "      <th>year</th>\n",
       "      <th>per_of_year</th>\n",
       "      <th>rank_of_year</th>\n",
       "    </tr>\n",
       "  </thead>\n",
       "  <tbody>\n",
       "    <tr>\n",
       "      <th>2085537</th>\n",
       "      <td>Olivia</td>\n",
       "      <td>F</td>\n",
       "      <td>15270</td>\n",
       "      <td>2023</td>\n",
       "      <td>0.010</td>\n",
       "      <td>1</td>\n",
       "    </tr>\n",
       "    <tr>\n",
       "      <th>2085538</th>\n",
       "      <td>Emma</td>\n",
       "      <td>F</td>\n",
       "      <td>13527</td>\n",
       "      <td>2023</td>\n",
       "      <td>0.008</td>\n",
       "      <td>2</td>\n",
       "    </tr>\n",
       "    <tr>\n",
       "      <th>2085539</th>\n",
       "      <td>Charlotte</td>\n",
       "      <td>F</td>\n",
       "      <td>12596</td>\n",
       "      <td>2023</td>\n",
       "      <td>0.008</td>\n",
       "      <td>3</td>\n",
       "    </tr>\n",
       "    <tr>\n",
       "      <th>2085540</th>\n",
       "      <td>Amelia</td>\n",
       "      <td>F</td>\n",
       "      <td>12311</td>\n",
       "      <td>2023</td>\n",
       "      <td>0.008</td>\n",
       "      <td>4</td>\n",
       "    </tr>\n",
       "    <tr>\n",
       "      <th>2085541</th>\n",
       "      <td>Sophia</td>\n",
       "      <td>F</td>\n",
       "      <td>11944</td>\n",
       "      <td>2023</td>\n",
       "      <td>0.007</td>\n",
       "      <td>5</td>\n",
       "    </tr>\n",
       "    <tr>\n",
       "      <th>2103070</th>\n",
       "      <td>Liam</td>\n",
       "      <td>M</td>\n",
       "      <td>20802</td>\n",
       "      <td>2023</td>\n",
       "      <td>0.012</td>\n",
       "      <td>1</td>\n",
       "    </tr>\n",
       "    <tr>\n",
       "      <th>2103071</th>\n",
       "      <td>Noah</td>\n",
       "      <td>M</td>\n",
       "      <td>18995</td>\n",
       "      <td>2023</td>\n",
       "      <td>0.011</td>\n",
       "      <td>2</td>\n",
       "    </tr>\n",
       "    <tr>\n",
       "      <th>2103072</th>\n",
       "      <td>Oliver</td>\n",
       "      <td>M</td>\n",
       "      <td>14741</td>\n",
       "      <td>2023</td>\n",
       "      <td>0.009</td>\n",
       "      <td>3</td>\n",
       "    </tr>\n",
       "    <tr>\n",
       "      <th>2103073</th>\n",
       "      <td>James</td>\n",
       "      <td>M</td>\n",
       "      <td>11670</td>\n",
       "      <td>2023</td>\n",
       "      <td>0.007</td>\n",
       "      <td>4</td>\n",
       "    </tr>\n",
       "    <tr>\n",
       "      <th>2103074</th>\n",
       "      <td>Elijah</td>\n",
       "      <td>M</td>\n",
       "      <td>11452</td>\n",
       "      <td>2023</td>\n",
       "      <td>0.007</td>\n",
       "      <td>5</td>\n",
       "    </tr>\n",
       "  </tbody>\n",
       "</table>\n",
       "</div>"
      ],
      "text/plain": [
       "             first sex  count  year  per_of_year  rank_of_year\n",
       "2085537     Olivia   F  15270  2023        0.010             1\n",
       "2085538       Emma   F  13527  2023        0.008             2\n",
       "2085539  Charlotte   F  12596  2023        0.008             3\n",
       "2085540     Amelia   F  12311  2023        0.008             4\n",
       "2085541     Sophia   F  11944  2023        0.007             5\n",
       "2103070       Liam   M  20802  2023        0.012             1\n",
       "2103071       Noah   M  18995  2023        0.011             2\n",
       "2103072     Oliver   M  14741  2023        0.009             3\n",
       "2103073      James   M  11670  2023        0.007             4\n",
       "2103074     Elijah   M  11452  2023        0.007             5"
      ]
     },
     "execution_count": 33,
     "metadata": {},
     "output_type": "execute_result"
    }
   ],
   "source": [
    "df[(df['year']==2023)&(df['rank_of_year']<6)]"
   ]
  },
  {
   "cell_type": "code",
   "execution_count": 40,
   "id": "40c4732e",
   "metadata": {},
   "outputs": [
    {
     "data": {
      "text/html": [
       "<div>\n",
       "<style scoped>\n",
       "    .dataframe tbody tr th:only-of-type {\n",
       "        vertical-align: middle;\n",
       "    }\n",
       "\n",
       "    .dataframe tbody tr th {\n",
       "        vertical-align: top;\n",
       "    }\n",
       "\n",
       "    .dataframe thead th {\n",
       "        text-align: right;\n",
       "    }\n",
       "</style>\n",
       "<table border=\"1\" class=\"dataframe\">\n",
       "  <thead>\n",
       "    <tr style=\"text-align: right;\">\n",
       "      <th></th>\n",
       "      <th>first</th>\n",
       "      <th>sex</th>\n",
       "      <th>count</th>\n",
       "      <th>year</th>\n",
       "      <th>per_of_year</th>\n",
       "      <th>rank_of_year</th>\n",
       "    </tr>\n",
       "  </thead>\n",
       "  <tbody>\n",
       "    <tr>\n",
       "      <th>2104682</th>\n",
       "      <td>Chad</td>\n",
       "      <td>M</td>\n",
       "      <td>107</td>\n",
       "      <td>2023</td>\n",
       "      <td>0.0</td>\n",
       "      <td>1613</td>\n",
       "    </tr>\n",
       "  </tbody>\n",
       "</table>\n",
       "</div>"
      ],
      "text/plain": [
       "        first sex  count  year  per_of_year  rank_of_year\n",
       "2104682  Chad   M    107  2023          0.0          1613"
      ]
     },
     "execution_count": 40,
     "metadata": {},
     "output_type": "execute_result"
    }
   ],
   "source": [
    "df[(df['year']==2023)&(df['first']=='Chad')]"
   ]
  }
 ],
 "metadata": {
  "kernelspec": {
   "display_name": "Python 3 (ipykernel)",
   "language": "python",
   "name": "python3"
  },
  "language_info": {
   "codemirror_mode": {
    "name": "ipython",
    "version": 3
   },
   "file_extension": ".py",
   "mimetype": "text/x-python",
   "name": "python",
   "nbconvert_exporter": "python",
   "pygments_lexer": "ipython3",
   "version": "3.11.5"
  }
 },
 "nbformat": 4,
 "nbformat_minor": 5
}
