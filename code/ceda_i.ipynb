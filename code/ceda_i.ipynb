{
 "cells": [
  {
   "cell_type": "code",
   "execution_count": 1,
   "id": "43527953",
   "metadata": {},
   "outputs": [],
   "source": [
    "import numpy as np\n",
    "import pandas as pd\n",
    "import matplotlib.pyplot as plt\n",
    "import seaborn as sns"
   ]
  },
  {
   "cell_type": "code",
   "execution_count": 2,
   "id": "09c54014",
   "metadata": {},
   "outputs": [
    {
     "name": "stdout",
     "output_type": "stream",
     "text": [
      "(2000, 5)\n"
     ]
    },
    {
     "data": {
      "text/html": [
       "<div>\n",
       "<style scoped>\n",
       "    .dataframe tbody tr th:only-of-type {\n",
       "        vertical-align: middle;\n",
       "    }\n",
       "\n",
       "    .dataframe tbody tr th {\n",
       "        vertical-align: top;\n",
       "    }\n",
       "\n",
       "    .dataframe thead th {\n",
       "        text-align: right;\n",
       "    }\n",
       "</style>\n",
       "<table border=\"1\" class=\"dataframe\">\n",
       "  <thead>\n",
       "    <tr style=\"text-align: right;\">\n",
       "      <th></th>\n",
       "      <th>first</th>\n",
       "      <th>sex</th>\n",
       "      <th>count</th>\n",
       "      <th>per_of_year</th>\n",
       "      <th>rank_of_year</th>\n",
       "    </tr>\n",
       "  </thead>\n",
       "  <tbody>\n",
       "    <tr>\n",
       "      <th>0</th>\n",
       "      <td>Mary</td>\n",
       "      <td>F</td>\n",
       "      <td>7065</td>\n",
       "      <td>0.078</td>\n",
       "      <td>1</td>\n",
       "    </tr>\n",
       "    <tr>\n",
       "      <th>1</th>\n",
       "      <td>Anna</td>\n",
       "      <td>F</td>\n",
       "      <td>2604</td>\n",
       "      <td>0.029</td>\n",
       "      <td>2</td>\n",
       "    </tr>\n",
       "    <tr>\n",
       "      <th>2</th>\n",
       "      <td>Emma</td>\n",
       "      <td>F</td>\n",
       "      <td>2003</td>\n",
       "      <td>0.022</td>\n",
       "      <td>3</td>\n",
       "    </tr>\n",
       "    <tr>\n",
       "      <th>3</th>\n",
       "      <td>Elizabeth</td>\n",
       "      <td>F</td>\n",
       "      <td>1939</td>\n",
       "      <td>0.021</td>\n",
       "      <td>4</td>\n",
       "    </tr>\n",
       "    <tr>\n",
       "      <th>4</th>\n",
       "      <td>Minnie</td>\n",
       "      <td>F</td>\n",
       "      <td>1746</td>\n",
       "      <td>0.019</td>\n",
       "      <td>5</td>\n",
       "    </tr>\n",
       "  </tbody>\n",
       "</table>\n",
       "</div>"
      ],
      "text/plain": [
       "       first sex  count  per_of_year  rank_of_year\n",
       "0       Mary   F   7065        0.078             1\n",
       "1       Anna   F   2604        0.029             2\n",
       "2       Emma   F   2003        0.022             3\n",
       "3  Elizabeth   F   1939        0.021             4\n",
       "4     Minnie   F   1746        0.019             5"
      ]
     },
     "execution_count": 2,
     "metadata": {},
     "output_type": "execute_result"
    }
   ],
   "source": [
    "df = pd.read_csv('../data/yob_ss/yob1880.txt', header=None,\n",
    "                names = ['first', 'sex', 'count'])\n",
    "\n",
    "#Per old actuarial methods I used, we'll be defining Male as anything not Female. Albeit even in 2023 all binary.\n",
    "newborn_females, newborn_males = sum(df[df['sex']=='F']['count']), sum(df[df['sex']!='F']['count'])\n",
    "df['per_of_year'] = [round(i/newborn_females, 3) if sex == 'F' else round(i/newborn_males, 3) for i, sex in zip(df['count'], df['sex'])]\n",
    "male_name_start = df['sex'].value_counts()['F']\n",
    "df['rank_of_year'] = [i if sex == 'F' else i - male_name_start for i, sex in zip(range(1, df.shape[0]+1), df['sex'])]\n",
    "print(df.shape)\n",
    "\n",
    "df.head()\n",
    "\n",
    "#Hmm, potentally change the last two columns to make it clearer that it's gender specific? Oh well"
   ]
  },
  {
   "cell_type": "markdown",
   "id": "4ffb45ec",
   "metadata": {},
   "source": [
    "Even if a name is androgynous, we're still intersted in seeing hte percentage of whatever gender being called it, to gauge name usage over time. Hence, depending upon the gender dividing a 'male' or 'female' name by the sum of all male/fe names used in whatever year."
   ]
  },
  {
   "cell_type": "code",
   "execution_count": 3,
   "id": "f34fa43c",
   "metadata": {},
   "outputs": [
    {
     "name": "stdout",
     "output_type": "stream",
     "text": [
      "(2117219, 6)\n"
     ]
    },
    {
     "data": {
      "text/html": [
       "<div>\n",
       "<style scoped>\n",
       "    .dataframe tbody tr th:only-of-type {\n",
       "        vertical-align: middle;\n",
       "    }\n",
       "\n",
       "    .dataframe tbody tr th {\n",
       "        vertical-align: top;\n",
       "    }\n",
       "\n",
       "    .dataframe thead th {\n",
       "        text-align: right;\n",
       "    }\n",
       "</style>\n",
       "<table border=\"1\" class=\"dataframe\">\n",
       "  <thead>\n",
       "    <tr style=\"text-align: right;\">\n",
       "      <th></th>\n",
       "      <th>first</th>\n",
       "      <th>sex</th>\n",
       "      <th>count</th>\n",
       "      <th>year</th>\n",
       "      <th>per_of_year</th>\n",
       "      <th>rank_of_year</th>\n",
       "    </tr>\n",
       "  </thead>\n",
       "  <tbody>\n",
       "    <tr>\n",
       "      <th>0</th>\n",
       "      <td>Mary</td>\n",
       "      <td>F</td>\n",
       "      <td>7065</td>\n",
       "      <td>1880</td>\n",
       "      <td>0.078</td>\n",
       "      <td>1</td>\n",
       "    </tr>\n",
       "    <tr>\n",
       "      <th>1</th>\n",
       "      <td>Anna</td>\n",
       "      <td>F</td>\n",
       "      <td>2604</td>\n",
       "      <td>1880</td>\n",
       "      <td>0.029</td>\n",
       "      <td>2</td>\n",
       "    </tr>\n",
       "    <tr>\n",
       "      <th>2</th>\n",
       "      <td>Emma</td>\n",
       "      <td>F</td>\n",
       "      <td>2003</td>\n",
       "      <td>1880</td>\n",
       "      <td>0.022</td>\n",
       "      <td>3</td>\n",
       "    </tr>\n",
       "    <tr>\n",
       "      <th>3</th>\n",
       "      <td>Elizabeth</td>\n",
       "      <td>F</td>\n",
       "      <td>1939</td>\n",
       "      <td>1880</td>\n",
       "      <td>0.021</td>\n",
       "      <td>4</td>\n",
       "    </tr>\n",
       "    <tr>\n",
       "      <th>4</th>\n",
       "      <td>Minnie</td>\n",
       "      <td>F</td>\n",
       "      <td>1746</td>\n",
       "      <td>1880</td>\n",
       "      <td>0.019</td>\n",
       "      <td>5</td>\n",
       "    </tr>\n",
       "  </tbody>\n",
       "</table>\n",
       "</div>"
      ],
      "text/plain": [
       "       first sex  count  year  per_of_year  rank_of_year\n",
       "0       Mary   F   7065  1880        0.078             1\n",
       "1       Anna   F   2604  1880        0.029             2\n",
       "2       Emma   F   2003  1880        0.022             3\n",
       "3  Elizabeth   F   1939  1880        0.021             4\n",
       "4     Minnie   F   1746  1880        0.019             5"
      ]
     },
     "execution_count": 3,
     "metadata": {},
     "output_type": "execute_result"
    }
   ],
   "source": [
    "#Hmm, but we have a gazillion... I see two approaches:\n",
    "#Make a giant data frame and add all those guys to it, seperating them via year.\n",
    "\n",
    "#2 Have a gazillion dataframes thenmaybe add as needed.\n",
    "\n",
    "#Yeah, we're doing the former.\n",
    "\n",
    "#Just realzied that we're assuming the SS lists are oganized by count. Perhaps we should be strict... oh well\n",
    "\n",
    "birth_years = []\n",
    "\n",
    "for specific_year in range(1880, 2024):\n",
    "    curr_df = pd.read_csv(f'../data/yob_ss/yob{specific_year}.txt', header=None,\n",
    "                names = ['first', 'sex', 'count'])\n",
    "    curr_df['year'] = specific_year\n",
    "    newborn_females, newborn_males = sum(curr_df[curr_df['sex']=='F']['count']), sum(curr_df[curr_df['sex']!='F']['count'])\n",
    "    curr_df['per_of_year'] = [round(i/newborn_females, 3) if sex == 'F' else round(i/newborn_males, 3) for i, sex in zip(curr_df['count'], curr_df['sex'])]\n",
    "    male_name_start = curr_df['sex'].value_counts()['F']\n",
    "    curr_df['rank_of_year'] = [i if sex == 'F' else i - male_name_start for i, sex in zip(range(1, curr_df.shape[0]+1), curr_df['sex'])]\n",
    "    birth_years.append(curr_df)\n",
    "    \n",
    "df = pd.concat(birth_years, axis=0, ignore_index=True) #Apparently it's faster to do it this way. More intuitive to be to\n",
    "#update the 'final' df immediately, but at least upon asking ChatGPT they claim it's quicker this way. Although we only have\n",
    "#4 features, including year, we do have over 2m records.\n",
    "    \n",
    "print(df.shape)\n",
    "df.head()"
   ]
  },
  {
   "cell_type": "markdown",
   "id": "07287396",
   "metadata": {},
   "source": [
    "Hmm, I'm wondering if SQL might have been the way to go for this. Eh, oh well."
   ]
  },
  {
   "cell_type": "code",
   "execution_count": 4,
   "id": "4e4c5c89",
   "metadata": {},
   "outputs": [
    {
     "data": {
      "text/html": [
       "<div>\n",
       "<style scoped>\n",
       "    .dataframe tbody tr th:only-of-type {\n",
       "        vertical-align: middle;\n",
       "    }\n",
       "\n",
       "    .dataframe tbody tr th {\n",
       "        vertical-align: top;\n",
       "    }\n",
       "\n",
       "    .dataframe thead th {\n",
       "        text-align: right;\n",
       "    }\n",
       "</style>\n",
       "<table border=\"1\" class=\"dataframe\">\n",
       "  <thead>\n",
       "    <tr style=\"text-align: right;\">\n",
       "      <th></th>\n",
       "      <th>first</th>\n",
       "      <th>sex</th>\n",
       "      <th>count</th>\n",
       "      <th>year</th>\n",
       "      <th>per_of_year</th>\n",
       "      <th>rank_of_year</th>\n",
       "    </tr>\n",
       "  </thead>\n",
       "  <tbody>\n",
       "    <tr>\n",
       "      <th>942</th>\n",
       "      <td>John</td>\n",
       "      <td>M</td>\n",
       "      <td>9655</td>\n",
       "      <td>1880</td>\n",
       "      <td>0.087</td>\n",
       "      <td>1</td>\n",
       "    </tr>\n",
       "    <tr>\n",
       "      <th>4962</th>\n",
       "      <td>John</td>\n",
       "      <td>M</td>\n",
       "      <td>9557</td>\n",
       "      <td>1882</td>\n",
       "      <td>0.084</td>\n",
       "      <td>1</td>\n",
       "    </tr>\n",
       "    <tr>\n",
       "      <th>943</th>\n",
       "      <td>William</td>\n",
       "      <td>M</td>\n",
       "      <td>9532</td>\n",
       "      <td>1880</td>\n",
       "      <td>0.086</td>\n",
       "      <td>2</td>\n",
       "    </tr>\n",
       "    <tr>\n",
       "      <th>9317</th>\n",
       "      <td>John</td>\n",
       "      <td>M</td>\n",
       "      <td>9388</td>\n",
       "      <td>1884</td>\n",
       "      <td>0.082</td>\n",
       "      <td>1</td>\n",
       "    </tr>\n",
       "    <tr>\n",
       "      <th>4963</th>\n",
       "      <td>William</td>\n",
       "      <td>M</td>\n",
       "      <td>9298</td>\n",
       "      <td>1882</td>\n",
       "      <td>0.082</td>\n",
       "      <td>2</td>\n",
       "    </tr>\n",
       "    <tr>\n",
       "      <th>18975</th>\n",
       "      <td>John</td>\n",
       "      <td>M</td>\n",
       "      <td>9247</td>\n",
       "      <td>1888</td>\n",
       "      <td>0.077</td>\n",
       "      <td>1</td>\n",
       "    </tr>\n",
       "    <tr>\n",
       "      <th>29758</th>\n",
       "      <td>John</td>\n",
       "      <td>M</td>\n",
       "      <td>9039</td>\n",
       "      <td>1892</td>\n",
       "      <td>0.074</td>\n",
       "      <td>1</td>\n",
       "    </tr>\n",
       "    <tr>\n",
       "      <th>14018</th>\n",
       "      <td>John</td>\n",
       "      <td>M</td>\n",
       "      <td>9026</td>\n",
       "      <td>1886</td>\n",
       "      <td>0.081</td>\n",
       "      <td>1</td>\n",
       "    </tr>\n",
       "    <tr>\n",
       "      <th>9318</th>\n",
       "      <td>William</td>\n",
       "      <td>M</td>\n",
       "      <td>8897</td>\n",
       "      <td>1884</td>\n",
       "      <td>0.078</td>\n",
       "      <td>2</td>\n",
       "    </tr>\n",
       "    <tr>\n",
       "      <th>7115</th>\n",
       "      <td>John</td>\n",
       "      <td>M</td>\n",
       "      <td>8894</td>\n",
       "      <td>1883</td>\n",
       "      <td>0.085</td>\n",
       "      <td>1</td>\n",
       "    </tr>\n",
       "  </tbody>\n",
       "</table>\n",
       "</div>"
      ],
      "text/plain": [
       "         first sex  count  year  per_of_year  rank_of_year\n",
       "942       John   M   9655  1880        0.087             1\n",
       "4962      John   M   9557  1882        0.084             1\n",
       "943    William   M   9532  1880        0.086             2\n",
       "9317      John   M   9388  1884        0.082             1\n",
       "4963   William   M   9298  1882        0.082             2\n",
       "18975     John   M   9247  1888        0.077             1\n",
       "29758     John   M   9039  1892        0.074             1\n",
       "14018     John   M   9026  1886        0.081             1\n",
       "9318   William   M   8897  1884        0.078             2\n",
       "7115      John   M   8894  1883        0.085             1"
      ]
     },
     "execution_count": 4,
     "metadata": {},
     "output_type": "execute_result"
    }
   ],
   "source": [
    "df[(df['sex'] == 'M') & (df['year'] < 1900)].sort_values('count', ascending=False)[:10]"
   ]
  },
  {
   "cell_type": "code",
   "execution_count": 5,
   "id": "79121cc8",
   "metadata": {},
   "outputs": [
    {
     "data": {
      "text/plain": [
       "sex\n",
       "F    1245559\n",
       "M     871660\n",
       "Name: count, dtype: int64"
      ]
     },
     "execution_count": 5,
     "metadata": {},
     "output_type": "execute_result"
    }
   ],
   "source": [
    "df['sex'].value_counts() #Wow.... and who said it's 50/50?!!?!? Not even close.... perhaps in one year is different\n",
    "#Oh no noob - this refers to just names... we'd need to sum the counts...\n",
    "\n",
    "#Still interesting though... albeit many are duplicated"
   ]
  },
  {
   "cell_type": "code",
   "execution_count": 6,
   "id": "88d1b984",
   "metadata": {},
   "outputs": [
    {
     "data": {
      "text/plain": [
       "(70903, 44261)"
      ]
     },
     "execution_count": 6,
     "metadata": {},
     "output_type": "execute_result"
    }
   ],
   "source": [
    "len(df[df['sex']=='F']['first'].unique()), len(df[df['sex']!='F']['first'].unique()) #There we go. Hmm, a similar disparity,\n",
    "#which somewhat makes sense.Regardless, see the much greater varity of female names than male names. Now, recall we're dealing\n",
    "#with the United States - a country that has many immigrants coming in, more and more as time goes on.So, a bit harder to gauge\n",
    "#the proportion of names when certain cultures bring with it differnt proportions of the gendered names."
   ]
  },
  {
   "cell_type": "code",
   "execution_count": 7,
   "id": "6a226844",
   "metadata": {},
   "outputs": [
    {
     "data": {
      "text/plain": [
       "(182299206, 186337032)"
      ]
     },
     "execution_count": 7,
     "metadata": {},
     "output_type": "execute_result"
    }
   ],
   "source": [
    "#Now, this is what I meant to do:\n",
    "\n",
    "females, males = sum(df[df['sex']=='F']['count']), sum(df[df['sex']!='F']['count'])\n",
    "females,males\n",
    "#Hmm, so about 4 million more males born over 144 years. Interesting. Might be neat to do a thing where we log\n",
    "#the number of males/females born each year from 1880 to 2023, potetialy focusing on percentages to cancel the effect of population\n",
    "#growth."
   ]
  },
  {
   "cell_type": "code",
   "execution_count": 8,
   "id": "559de649",
   "metadata": {},
   "outputs": [
    {
     "data": {
      "text/plain": [
       "(2571.107, 4209.96)"
      ]
     },
     "execution_count": 8,
     "metadata": {},
     "output_type": "execute_result"
    }
   ],
   "source": [
    "round(females/len(df[df['sex']=='F']['first'].unique()), 3), round(males/len(df[df['sex']!='F']['first'].unique()), 3)\n",
    "#Wow, the average female name is used a bit more than half of the average male name. Obviously from just our head we see Mary and Anna\n",
    "#beat that - just with that one year... but we're talking about all 70k unique female names..."
   ]
  },
  {
   "cell_type": "code",
   "execution_count": 9,
   "id": "c502628e",
   "metadata": {},
   "outputs": [
    {
     "data": {
      "text/plain": [
       "sex\n",
       "M    1058\n",
       "F     942\n",
       "Name: count, dtype: int64"
      ]
     },
     "execution_count": 9,
     "metadata": {},
     "output_type": "execute_result"
    }
   ],
   "source": [
    "df[df['year'] == 1880]['sex'].value_counts()"
   ]
  },
  {
   "cell_type": "markdown",
   "id": "89678e88",
   "metadata": {},
   "source": [
    "## Select Analytics and Visuals\n",
    "\n",
    "Hmm, what should we focus on? I'll at least give 3 ideas right now:\n",
    "\n",
    "Note, by default assume things are gendered (do it both for male and female)\n",
    "\n",
    "Most popular name from 1880 useage until now.\n",
    "    From 2023 and how it changes (if it did)\n",
    "Occurences of names in the top 10, 20, 25, 30, 50, 100\n",
    "\n",
    "Gendered births over time (ie did begetting males become less frequent?)"
   ]
  },
  {
   "cell_type": "code",
   "execution_count": 11,
   "id": "b5f17494",
   "metadata": {},
   "outputs": [],
   "source": [
    "birth_percentages = []\n",
    "for i in range(1880, 2024): #Od\n",
    "    females, males = sum(df[(df['year'] == i) & (df['sex'] == 'F')]['count']), sum(df[(df['year'] == i) & (df['sex'] != 'F')]['count'])\n",
    "    births = females + males\n",
    "    birth_percentages.append([i, round(females/births, 3), round(males/births, 3)])\n",
    "    \n",
    "birth_percentages = pd.DataFrame(birth_percentages, columns=['year', 'female_br', 'male_br'])\n",
    "birth_percentages.head()"
   ]
  },
  {
   "cell_type": "code",
   "execution_count": 26,
   "id": "96083842",
   "metadata": {},
   "outputs": [
    {
     "data": {
      "image/png": "[encoded data removed]",
      "text/plain": [
       "<Figure size 640x480 with 1 Axes>"
      ]
     },
     "metadata": {},
     "output_type": "display_data"
    }
   ],
   "source": [
    "xtitle = 'Year'\n",
    "ytitle = 'Birth Rate'\n",
    "title = 'Male and Female Birth Rate over Time'\n",
    "\n",
    "plt.xlabel(xtitle)\n",
    "plt.ylabel(ytitle)\n",
    "plt.title(title)\n",
    "plt.plot(birth_percentages['year'], birth_percentages['female_br'], color = 'pink', label = 'Females')\n",
    "plt.plot(birth_percentages['year'], birth_percentages['male_br'], color = 'lightskyblue', label = 'Males')\n",
    "plt.axvline(x=1883, color='darkviolet', linestyle='--', label='1883') #Found via eda\n",
    "plt.axvline(x=1937, color='black', linestyle='--', label='1937')\n",
    "plt.legend();"
   ]
  },
  {
   "cell_type": "markdown",
   "id": "186315bb",
   "metadata": {},
   "source": [
    "Yeah, all this adds to a lot of interestng discussions, especially in years 1889 to 1911 that the female birthrate was over 20% that of males, maxing out at 69.2% to 30.8% in 1901.\n",
    "\n",
    "Pragmatically recall I trend I remember from my actuarial days where apparently the expected age difference was that males would be 3 years older than females. So, on a population basis we might need to offset them by three, but eh..."
   ]
  },
  {
   "cell_type": "code",
   "execution_count": 31,
   "id": "95d03dc2",
   "metadata": {},
   "outputs": [],
   "source": [
    "# birth_percentages[birth_percentages['female_br']-birth_percentages['male_br']>.2]\n",
    "# birth_percentages[birth_percentages['female_br']==birth_percentages['female_br'].max()]"
   ]
  }
 ],
 "metadata": {
  "kernelspec": {
   "display_name": "Python 3 (ipykernel)",
   "language": "python",
   "name": "python3"
  },
  "language_info": {
   "codemirror_mode": {
    "name": "ipython",
    "version": 3
   },
   "file_extension": ".py",
   "mimetype": "text/x-python",
   "name": "python",
   "nbconvert_exporter": "python",
   "pygments_lexer": "ipython3",
   "version": "3.11.5"
  }
 },
 "nbformat": 4,
 "nbformat_minor": 5
}
